{
 "cells": [
  {
   "cell_type": "markdown",
   "id": "11f0524f",
   "metadata": {},
   "source": [
    "\n",
    "# 📘 Day 3: Eigenvalues, Eigenvectors & PCA\n",
    "Topic: Dimensionality Reduction for Personalization\n",
    "\n",
    "### 🎯 Goal:\n",
    "Understand how PCA (Principal Component Analysis) helps uncover hidden patterns\n",
    "and reduces complex data (like customer features) into key components\n",
    "that explain most of the variance.\n",
    "\n",
    "### 🔧 Step 1: Imports\n"
   ]
  },
  {
   "cell_type": "code",
   "execution_count": 1,
   "id": "9f769fa1",
   "metadata": {},
   "outputs": [],
   "source": [
    "import numpy as np\n",
    "import pandas as pd\n",
    "import matplotlib.pyplot as plt\n",
    "from sklearn.decomposition import PCA\n",
    "from sklearn.preprocessing import StandardScaler"
   ]
  },
  {
   "cell_type": "markdown",
   "id": "1ebf8be4",
   "metadata": {},
   "source": [
    "### 🧩 Step 2: Build Intuition — Eigenvalues & Eigenvectors\n"
   ]
  },
  {
   "cell_type": "code",
   "execution_count": 2,
   "id": "7c0c2ee6",
   "metadata": {},
   "outputs": [
    {
     "name": "stdout",
     "output_type": "stream",
     "text": [
      "Eigenvalues: [2.44339811 0.55660189]\n",
      "Eigenvectors:\n",
      " [[ 0.87464248 -0.48476853]\n",
      " [ 0.48476853  0.87464248]]\n"
     ]
    }
   ],
   "source": [
    "# Create a covariance matrix (2D for simplicity)\n",
    "A = np.array([[2, 0.8],\n",
    "              [0.8, 1]])\n",
    "\n",
    "# Compute eigenvalues and eigenvectors\n",
    "eigenvalues, eigenvectors = np.linalg.eig(A)\n",
    "\n",
    "print(\"Eigenvalues:\", eigenvalues)\n",
    "print(\"Eigenvectors:\\n\", eigenvectors)"
   ]
  },
  {
   "cell_type": "markdown",
   "id": "71671802",
   "metadata": {},
   "source": [
    "## 🧠 Intuition:\n",
    "#### Eigenvectors → the directions where data varies the most\n",
    "#### Eigenvalues → how much variance (information) is captured along those directions\n"
   ]
  },
  {
   "cell_type": "code",
   "execution_count": 3,
   "id": "a75976d2",
   "metadata": {},
   "outputs": [
    {
     "data": {
      "image/png": "[encoded data removed]",
      "text/plain": [
       "<Figure size 600x600 with 1 Axes>"
      ]
     },
     "metadata": {},
     "output_type": "display_data"
    }
   ],
   "source": [
    "# Visualizing these directions\n",
    "plt.figure(figsize=(6,6))\n",
    "origin = np.zeros(2)\n",
    "plt.quiver(*origin, eigenvectors[0,0], eigenvectors[1,0], color='r', scale=3, label='1st Eigenvector')\n",
    "plt.quiver(*origin, eigenvectors[0,1], eigenvectors[1,1], color='b', scale=3, label='2nd Eigenvector')\n",
    "plt.xlim(-2, 2)\n",
    "plt.ylim(-2, 2)\n",
    "plt.title(\"Eigenvectors — Directions of Maximum Variance\")\n",
    "plt.grid(True)\n",
    "plt.legend()\n",
    "plt.show()"
   ]
  },
  {
   "cell_type": "markdown",
   "id": "af16a066",
   "metadata": {},
   "source": [
    "### 📊 Step 3: Real Data Example — Sales/Marketing Dataset"
   ]
  },
  {
   "cell_type": "code",
   "execution_count": 4,
   "id": "d83b105e",
   "metadata": {},
   "outputs": [
    {
     "name": "stdout",
     "output_type": "stream",
     "text": [
      "\n",
      "🧾 Marketing Data:\n",
      "    Ad_Spend  Website_Visits  Email_Clicks  Revenue\n",
      "0       100             400            50     1000\n",
      "1       200             800           100     2300\n",
      "2       150             500            70     1600\n",
      "3       300             900           120     2800\n",
      "4       250             700            90     2500\n"
     ]
    }
   ],
   "source": [
    "# Simulated dataset: 5 customers, 4 product features\n",
    "data = {\n",
    "    'Ad_Spend': [100, 200, 150, 300, 250],\n",
    "    'Website_Visits': [400, 800, 500, 900, 700],\n",
    "    'Email_Clicks': [50, 100, 70, 120, 90],\n",
    "    'Revenue': [1000, 2300, 1600, 2800, 2500]\n",
    "}\n",
    "\n",
    "df = pd.DataFrame(data)\n",
    "print(\"\\n🧾 Marketing Data:\\n\", df)\n",
    "\n",
    "# Standardize (very important before PCA)\n",
    "scaler = StandardScaler()\n",
    "scaled = scaler.fit_transform(df)"
   ]
  },
  {
   "cell_type": "markdown",
   "id": "bfa58a5f",
   "metadata": {},
   "source": [
    "### 🔍 Step 4: Apply PCA"
   ]
  },
  {
   "cell_type": "code",
   "execution_count": 5,
   "id": "28e5597b",
   "metadata": {},
   "outputs": [
    {
     "name": "stdout",
     "output_type": "stream",
     "text": [
      "\n",
      "Principal Components:\n",
      "         PC1       PC2\n",
      "0 -2.949905 -0.037692\n",
      "1  0.868495 -0.535482\n",
      "2 -1.452465  0.073857\n",
      "3  2.638735  0.008139\n",
      "4  0.895141  0.491178\n",
      "\n",
      "Explained Variance Ratio: [0.96650371 0.02674689]\n"
     ]
    }
   ],
   "source": [
    "pca = PCA(n_components=2)\n",
    "principal_components = pca.fit_transform(scaled)\n",
    "\n",
    "pca_df = pd.DataFrame(data=principal_components, columns=['PC1', 'PC2'])\n",
    "print(\"\\nPrincipal Components:\\n\", pca_df)\n",
    "\n",
    "# Variance explained by each component\n",
    "print(\"\\nExplained Variance Ratio:\", pca.explained_variance_ratio_)"
   ]
  },
  {
   "cell_type": "markdown",
   "id": "37e6c00e",
   "metadata": {},
   "source": [
    "### 📈 Step 5: Understanding the Output\n",
    "\n",
    "#### The first component (PC1) explains the most variance — usually the key behavioral trend.\n",
    "#### The second (PC2) explains what's left over, orthogonal to PC1.\n",
    "\n",
    "#### Together, they let us cluster or segment customers efficiently.\n"
   ]
  },
  {
   "cell_type": "code",
   "execution_count": 6,
   "id": "4be42b40",
   "metadata": {},
   "outputs": [
    {
     "name": "stdout",
     "output_type": "stream",
     "text": [
      "\n",
      "🧠 Interpretation:\n",
      "- PC1 explains 96.65% of variance.\n",
      "- PC2 explains 2.67% of variance.\n",
      "=> PCA helps us visualize customers in fewer dimensions while keeping most of the important information!\n"
     ]
    }
   ],
   "source": [
    "print(\"\\n🧠 Interpretation:\")\n",
    "print(f\"- PC1 explains {pca.explained_variance_ratio_[0]*100:.2f}% of variance.\")\n",
    "print(f\"- PC2 explains {pca.explained_variance_ratio_[1]*100:.2f}% of variance.\")\n",
    "print(\"=> PCA helps us visualize customers in fewer dimensions while keeping most of the important information!\")"
   ]
  },
  {
   "cell_type": "markdown",
   "id": "02863902",
   "metadata": {},
   "source": [
    "### 🧮 Step 6: Optional — Reconstruct Original Data (Approximation)"
   ]
  },
  {
   "cell_type": "code",
   "execution_count": 7,
   "id": "719690bc",
   "metadata": {},
   "outputs": [
    {
     "name": "stdout",
     "output_type": "stream",
     "text": [
      "\n",
      "🔄 Reconstructed (Approximate) Data:\n",
      "      Ad_Spend  Website_Visits  Email_Clicks      Revenue\n",
      "0   95.007228      390.726490     50.511699  1063.927595\n",
      "1  204.908443      795.867376    101.638922  2225.597575\n",
      "2  152.700567      517.847908     67.648756  1576.612283\n",
      "3  292.700833      903.517247    117.987710  2908.349122\n",
      "4  254.682929      692.040978     92.212913  2425.513424\n"
     ]
    }
   ],
   "source": [
    "# You can reconstruct an approximation of the original data using inverse transform\n",
    "approx = pca.inverse_transform(principal_components)\n",
    "approx_df = pd.DataFrame(scaler.inverse_transform(approx), columns=df.columns)\n",
    "print(\"\\n🔄 Reconstructed (Approximate) Data:\\n\", approx_df)"
   ]
  },
  {
   "cell_type": "markdown",
   "id": "279c6d24",
   "metadata": {},
   "source": [
    "### 🧩 Step 7: Learnings Summary\n",
    "\n",
    "1. Eigenvectors show *directions* of maximum variance (important features).\n",
    "2. Eigenvalues show *how much* variance each direction captures.\n",
    "3. PCA reduces dimensions while preserving essential patterns.\n",
    "4. Great for visualization, noise reduction, and personalization.\n",
    "5. Commonly used in recommender systems, customer segmentation, and feature compression."
   ]
  }
 ],
 "metadata": {
  "kernelspec": {
   "display_name": ".venv",
   "language": "python",
   "name": "python3"
  },
  "language_info": {
   "codemirror_mode": {
    "name": "ipython",
    "version": 3
   },
   "file_extension": ".py",
   "mimetype": "text/x-python",
   "name": "python",
   "nbconvert_exporter": "python",
   "pygments_lexer": "ipython3",
   "version": "3.12.0"
  }
 },
 "nbformat": 4,
 "nbformat_minor": 5
}
