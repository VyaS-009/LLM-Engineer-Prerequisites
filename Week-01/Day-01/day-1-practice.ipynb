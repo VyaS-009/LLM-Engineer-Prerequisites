{
 "cells": [
  {
   "cell_type": "markdown",
   "id": "4b19ec30",
   "metadata": {},
   "source": [
    "# Getting comfortable with vectors and their operations"
   ]
  },
  {
   "cell_type": "code",
   "execution_count": 1,
   "id": "0f649cba",
   "metadata": {},
   "outputs": [
    {
     "name": "stdout",
     "output_type": "stream",
     "text": [
      "Addition: [3 5]\n",
      "Dot Product: 8\n",
      "Magnitude of a: 2.23606797749979\n"
     ]
    }
   ],
   "source": [
    "import numpy as np\n",
    "\n",
    "#creation of vectors\n",
    "a= np.array([1,2])\n",
    "b= np.array([2,3])\n",
    "\n",
    "#Addition of vectors\n",
    "print(\"Addition:\", a + b)\n",
    "\n",
    "#Dot product of vectors\n",
    "print(\"Dot Product:\", np.dot(a,b))\n",
    "\n",
    "#Magnitude of vectors\n",
    "print(\"Magnitude of a:\", np.linalg.norm(a))\n"
   ]
  },
  {
   "cell_type": "markdown",
   "id": "95d7954d",
   "metadata": {},
   "source": [
    "# Manual Cosine Similarity\n",
    "\n",
    "- Its nothing but the angle between vectors.\n",
    "- We calculate that by using this:\n",
    "    If we want cosine similarity b/w a,b, \n",
    "    then we find: a.b/|a|*|b|"
   ]
  },
  {
   "cell_type": "code",
   "execution_count": 3,
   "id": "3582fea1",
   "metadata": {},
   "outputs": [
    {
     "name": "stdout",
     "output_type": "stream",
     "text": [
      "Cosine Similarity: 0.9922778767136677\n",
      "Cosine Similarity b/w u1&u2 is: 0.6647029903343876\n",
      "Cosine Similarity b/w u1&u3 is: 0.5060480768510597\n",
      "Cosine Similarity b/w u2&u3 is: 0.07938841860374447\n"
     ]
    }
   ],
   "source": [
    "#cosine similarity\n",
    "angle= np.dot(a,b)/(np.linalg.norm(a)*np.linalg.norm(b))\n",
    "print(\"Cosine Similarity:\", angle)\n",
    "\n",
    "def cosine_similarity(u, v):\n",
    "    return np.dot(u, v) / (np.linalg.norm(u) * np.linalg.norm(v))\n",
    "\n",
    "u1 = np.array([4, 5, 0, 2])\n",
    "u2 = np.array([5, 0, 0, 3])\n",
    "u3 = np.array([0, 4, 5, 1])\n",
    "\n",
    "print(\"Cosine Similarity b/w u1&u2 is:\", cosine_similarity(u1,u2))\n",
    "print(\"Cosine Similarity b/w u1&u3 is:\", cosine_similarity(u1,u3))\n",
    "print(\"Cosine Similarity b/w u2&u3 is:\", cosine_similarity(u2,u3))"
   ]
  },
  {
   "cell_type": "markdown",
   "id": "72a33df0",
   "metadata": {},
   "source": [
    "# Mini movie recommendation system"
   ]
  },
  {
   "cell_type": "code",
   "execution_count": 5,
   "id": "f4746086",
   "metadata": {},
   "outputs": [
    {
     "name": "stdout",
     "output_type": "stream",
     "text": [
      "User-User Similarity Matrix:\n",
      " [[1.         0.86091606 0.31872763 0.22677868]\n",
      " [0.86091606 1.         0.22866478 0.        ]\n",
      " [0.31872763 0.22866478 1.         0.9486833 ]\n",
      " [0.22677868 0.         0.9486833  1.        ]]\n"
     ]
    }
   ],
   "source": [
    "import numpy as np\n",
    "from sklearn.metrics.pairwise import cosine_similarity\n",
    "\n",
    "ratings = np.array([\n",
    "    [5, 3, 0, 1],\n",
    "    [4, 0, 0, 1],\n",
    "    [1, 1, 4, 0],\n",
    "    [0, 2, 4, 0]\n",
    "], dtype=float)\n",
    "\n",
    "sim = cosine_similarity(ratings)\n",
    "print(\"User-User Similarity Matrix:\\n\", sim)"
   ]
  },
  {
   "cell_type": "code",
   "execution_count": 6,
   "id": "bb8fd008",
   "metadata": {},
   "outputs": [
    {
     "name": "stdout",
     "output_type": "stream",
     "text": [
      "Predicted rating for User1 on Movie3: 4.00\n"
     ]
    }
   ],
   "source": [
    "target_user = 0\n",
    "target_movie = 2  # missing rating\n",
    "\n",
    "# Weighted average of similar users\n",
    "numerator = 0\n",
    "denominator = 0\n",
    "\n",
    "for other_user in range(ratings.shape[0]):\n",
    "    if other_user == target_user or ratings[other_user, target_movie] == 0:\n",
    "        continue\n",
    "    numerator += sim[target_user, other_user] * ratings[other_user, target_movie]\n",
    "    denominator += abs(sim[target_user, other_user])\n",
    "\n",
    "predicted_rating = numerator / denominator\n",
    "print(f\"Predicted rating for User{target_user+1} on Movie{target_movie+1}: {predicted_rating:.2f}\")"
   ]
  },
  {
   "cell_type": "markdown",
   "id": "20a80c97",
   "metadata": {},
   "source": [
    "# Visual intution"
   ]
  },
  {
   "cell_type": "code",
   "execution_count": 7,
   "id": "e032b935",
   "metadata": {},
   "outputs": [
    {
     "data": {
      "image/png": "[encoded data removed]",
      "text/plain": [
       "<Figure size 640x480 with 1 Axes>"
      ]
     },
     "metadata": {},
     "output_type": "display_data"
    }
   ],
   "source": [
    "import matplotlib.pyplot as plt\n",
    "\n",
    "v1 = np.array([2, 3])\n",
    "v2 = np.array([4, 6])\n",
    "v3 = np.array([3, -2])\n",
    "\n",
    "plt.quiver(0,0,v1[0],v1[1],angles='xy',scale_units='xy',scale=1,color='r',label='v1')\n",
    "plt.quiver(0,0,v2[0],v2[1],angles='xy',scale_units='xy',scale=1,color='g',label='v2')\n",
    "plt.quiver(0,0,v3[0],v3[1],angles='xy',scale_units='xy',scale=1,color='b',label='v3')\n",
    "\n",
    "plt.xlim(-5,7)\n",
    "plt.ylim(-5,7)\n",
    "plt.grid()\n",
    "plt.legend()\n",
    "plt.show()\n"
   ]
  },
  {
   "cell_type": "markdown",
   "id": "9f158b7b",
   "metadata": {},
   "source": [
    "# Challenge\n",
    "\n",
    "Given two users:\n",
    "\n",
    "U1 = [5, 3, 0, 1]\n",
    "\n",
    "U2 = [1, 0, 4, 5]\n",
    "\n",
    "1️⃣ Compute cosine similarity.\n",
    "2️⃣ Find which movies are most different.\n",
    "3️⃣ Predict if they’d like each other’s top movies."
   ]
  },
  {
   "cell_type": "code",
   "execution_count": 8,
   "id": "e479f0c0",
   "metadata": {},
   "outputs": [
    {
     "name": "stdout",
     "output_type": "stream",
     "text": [
      "Cosine Similarity between U1 and U2: 0.26082026547865056\n",
      "Most different movie index (0-based): 0\n",
      "Would U1 like U2's top movie? No\n",
      "Would U2 like U1's top movie? No\n"
     ]
    }
   ],
   "source": [
    "from sklearn.metrics.pairwise import cosine_similarity\n",
    "u1= np.array([5,3,0,1])\n",
    "u2= np.array([1,0,4,5])\n",
    "\n",
    "#1️⃣ Compute cosine similarity.\n",
    "sim= cosine_similarity([u1],[u2])\n",
    "print(\"Cosine Similarity between U1 and U2:\", sim[0][0])\n",
    "\n",
    "#2️⃣ Find which movies are most different.\n",
    "diff = np.abs(u1 - u2)\n",
    "most_diff_movie = np.argmax(diff)\n",
    "print(\"Most different movie index (0-based):\", most_diff_movie)\n",
    "\n",
    "#3️⃣ Predict if they’d like each other’s top movies.\n",
    "u1_top_movie = np.argmax(u1)\n",
    "u2_top_movie = np.argmax(u2)\n",
    "u1_likes_u2_top = u1[u2_top_movie] >= 4\n",
    "u2_likes_u1_top = u2[u1_top_movie] >= 4\n",
    "print(f\"Would U1 like U2's top movie? {'Yes' if u1_likes_u2_top else 'No'}\")\n",
    "print(f\"Would U2 like U1's top movie? {'Yes' if u2_likes_u1_top else 'No'}\")"
   ]
  },
  {
   "cell_type": "markdown",
   "id": "5e02da51",
   "metadata": {},
   "source": [
    "# Reflection\n",
    "\n",
    "- What is the geometric meaning of dot product?\n",
    "    The dot product measures how much two vectors point in the same direction. Geometrically, it is the length of the projection of one vector onto another, scaled by the magnitude of the second vector. A larger value means they are more aligned.\n",
    "\n",
    "- How does cosine similarity change if we scale a vector by 10?\n",
    "    It doesn't change at all. Cosine similarity only cares about the angle (direction) between vectors, not their length (magnitude). Scaling a vector just makes it longer but doesn't change its direction, so the angle and the similarity score remain the same.\n",
    "\n",
    "- Why is normalization important in recommendations?\n",
    "    Normalization puts all features on a common scale, ensuring fair comparisons. This prevents features with large raw values (like view counts) from unfairly dominating features with smaller values (like 1-5 star ratings), leading to more accurate and balanced recommendations."
   ]
  }
 ],
 "metadata": {
  "kernelspec": {
   "display_name": ".venv",
   "language": "python",
   "name": "python3"
  },
  "language_info": {
   "codemirror_mode": {
    "name": "ipython",
    "version": 3
   },
   "file_extension": ".py",
   "mimetype": "text/x-python",
   "name": "python",
   "nbconvert_exporter": "python",
   "pygments_lexer": "ipython3",
   "version": "3.12.0"
  }
 },
 "nbformat": 4,
 "nbformat_minor": 5
}
