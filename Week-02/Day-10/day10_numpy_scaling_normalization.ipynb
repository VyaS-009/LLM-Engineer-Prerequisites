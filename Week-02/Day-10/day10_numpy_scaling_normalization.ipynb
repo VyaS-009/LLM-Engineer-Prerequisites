{
 "cells": [
  {
   "cell_type": "markdown",
   "id": "d2f34454",
   "metadata": {},
   "source": [
    "\n",
    "# 🧮 Day 10 — NumPy for Computation: Scaling & Normalization\n",
    "\n",
    "Scaling and normalization are crucial steps before training any ML model.\n",
    "They ensure all numeric features contribute equally and prevent dominance by large-scale variables.\n"
   ]
  },
  {
   "cell_type": "markdown",
   "id": "bf2aeef4",
   "metadata": {},
   "source": [
    "\n",
    "## 🎯 Objective\n",
    "Learn how to scale and normalize numeric features using **NumPy** and compare with **Scikit-learn** preprocessing tools.\n"
   ]
  },
  {
   "cell_type": "code",
   "execution_count": 1,
   "id": "ad06ec2f",
   "metadata": {},
   "outputs": [
    {
     "data": {
      "text/html": [
       "<div>\n",
       "<style scoped>\n",
       "    .dataframe tbody tr th:only-of-type {\n",
       "        vertical-align: middle;\n",
       "    }\n",
       "\n",
       "    .dataframe tbody tr th {\n",
       "        vertical-align: top;\n",
       "    }\n",
       "\n",
       "    .dataframe thead th {\n",
       "        text-align: right;\n",
       "    }\n",
       "</style>\n",
       "<table border=\"1\" class=\"dataframe\">\n",
       "  <thead>\n",
       "    <tr style=\"text-align: right;\">\n",
       "      <th></th>\n",
       "      <th>crim</th>\n",
       "      <th>zn</th>\n",
       "      <th>indus</th>\n",
       "      <th>chas</th>\n",
       "      <th>nox</th>\n",
       "      <th>rm</th>\n",
       "      <th>age</th>\n",
       "      <th>dis</th>\n",
       "      <th>rad</th>\n",
       "      <th>tax</th>\n",
       "      <th>ptratio</th>\n",
       "      <th>b</th>\n",
       "      <th>lstat</th>\n",
       "      <th>medv</th>\n",
       "    </tr>\n",
       "  </thead>\n",
       "  <tbody>\n",
       "    <tr>\n",
       "      <th>0</th>\n",
       "      <td>0.00632</td>\n",
       "      <td>18.0</td>\n",
       "      <td>2.31</td>\n",
       "      <td>0</td>\n",
       "      <td>0.538</td>\n",
       "      <td>6.575</td>\n",
       "      <td>65.2</td>\n",
       "      <td>4.0900</td>\n",
       "      <td>1</td>\n",
       "      <td>296</td>\n",
       "      <td>15.3</td>\n",
       "      <td>396.90</td>\n",
       "      <td>4.98</td>\n",
       "      <td>24.0</td>\n",
       "    </tr>\n",
       "    <tr>\n",
       "      <th>1</th>\n",
       "      <td>0.02731</td>\n",
       "      <td>0.0</td>\n",
       "      <td>7.07</td>\n",
       "      <td>0</td>\n",
       "      <td>0.469</td>\n",
       "      <td>6.421</td>\n",
       "      <td>78.9</td>\n",
       "      <td>4.9671</td>\n",
       "      <td>2</td>\n",
       "      <td>242</td>\n",
       "      <td>17.8</td>\n",
       "      <td>396.90</td>\n",
       "      <td>9.14</td>\n",
       "      <td>21.6</td>\n",
       "    </tr>\n",
       "    <tr>\n",
       "      <th>2</th>\n",
       "      <td>0.02729</td>\n",
       "      <td>0.0</td>\n",
       "      <td>7.07</td>\n",
       "      <td>0</td>\n",
       "      <td>0.469</td>\n",
       "      <td>7.185</td>\n",
       "      <td>61.1</td>\n",
       "      <td>4.9671</td>\n",
       "      <td>2</td>\n",
       "      <td>242</td>\n",
       "      <td>17.8</td>\n",
       "      <td>392.83</td>\n",
       "      <td>4.03</td>\n",
       "      <td>34.7</td>\n",
       "    </tr>\n",
       "    <tr>\n",
       "      <th>3</th>\n",
       "      <td>0.03237</td>\n",
       "      <td>0.0</td>\n",
       "      <td>2.18</td>\n",
       "      <td>0</td>\n",
       "      <td>0.458</td>\n",
       "      <td>6.998</td>\n",
       "      <td>45.8</td>\n",
       "      <td>6.0622</td>\n",
       "      <td>3</td>\n",
       "      <td>222</td>\n",
       "      <td>18.7</td>\n",
       "      <td>394.63</td>\n",
       "      <td>2.94</td>\n",
       "      <td>33.4</td>\n",
       "    </tr>\n",
       "    <tr>\n",
       "      <th>4</th>\n",
       "      <td>0.06905</td>\n",
       "      <td>0.0</td>\n",
       "      <td>2.18</td>\n",
       "      <td>0</td>\n",
       "      <td>0.458</td>\n",
       "      <td>7.147</td>\n",
       "      <td>54.2</td>\n",
       "      <td>6.0622</td>\n",
       "      <td>3</td>\n",
       "      <td>222</td>\n",
       "      <td>18.7</td>\n",
       "      <td>396.90</td>\n",
       "      <td>5.33</td>\n",
       "      <td>36.2</td>\n",
       "    </tr>\n",
       "  </tbody>\n",
       "</table>\n",
       "</div>"
      ],
      "text/plain": [
       "      crim    zn  indus  chas    nox     rm   age     dis  rad  tax  ptratio  \\\n",
       "0  0.00632  18.0   2.31     0  0.538  6.575  65.2  4.0900    1  296     15.3   \n",
       "1  0.02731   0.0   7.07     0  0.469  6.421  78.9  4.9671    2  242     17.8   \n",
       "2  0.02729   0.0   7.07     0  0.469  7.185  61.1  4.9671    2  242     17.8   \n",
       "3  0.03237   0.0   2.18     0  0.458  6.998  45.8  6.0622    3  222     18.7   \n",
       "4  0.06905   0.0   2.18     0  0.458  7.147  54.2  6.0622    3  222     18.7   \n",
       "\n",
       "        b  lstat  medv  \n",
       "0  396.90   4.98  24.0  \n",
       "1  396.90   9.14  21.6  \n",
       "2  392.83   4.03  34.7  \n",
       "3  394.63   2.94  33.4  \n",
       "4  396.90   5.33  36.2  "
      ]
     },
     "execution_count": 1,
     "metadata": {},
     "output_type": "execute_result"
    }
   ],
   "source": [
    "\n",
    "import numpy as np\n",
    "import pandas as pd\n",
    "import matplotlib.pyplot as plt\n",
    "\n",
    "# Load dataset\n",
    "data = pd.read_csv(\"https://raw.githubusercontent.com/selva86/datasets/master/BostonHousing.csv\")\n",
    "data.head()\n"
   ]
  },
  {
   "cell_type": "markdown",
   "id": "8d9879f9",
   "metadata": {},
   "source": [
    "\n",
    "## 🔹 Step 1 — Select Numeric Columns for Scaling\n",
    "We'll pick a few numeric columns for demonstration.\n"
   ]
  },
  {
   "cell_type": "code",
   "execution_count": 2,
   "id": "2b4daacb",
   "metadata": {},
   "outputs": [
    {
     "data": {
      "text/plain": [
       "array([[ 4.98  ,  6.575 , 65.2   ,  4.09  ],\n",
       "       [ 9.14  ,  6.421 , 78.9   ,  4.9671],\n",
       "       [ 4.03  ,  7.185 , 61.1   ,  4.9671],\n",
       "       [ 2.94  ,  6.998 , 45.8   ,  6.0622],\n",
       "       [ 5.33  ,  7.147 , 54.2   ,  6.0622]])"
      ]
     },
     "execution_count": 2,
     "metadata": {},
     "output_type": "execute_result"
    }
   ],
   "source": [
    "\n",
    "X = data[['lstat', 'rm', 'age', 'dis']].values\n",
    "X[:5]\n"
   ]
  },
  {
   "cell_type": "markdown",
   "id": "1d4803fa",
   "metadata": {},
   "source": [
    "\n",
    "## 🔹 Step 2 — Apply Min-Max Normalization\n",
    "This rescales all features to the range [0, 1].\n"
   ]
  },
  {
   "cell_type": "code",
   "execution_count": 3,
   "id": "74a16698",
   "metadata": {},
   "outputs": [
    {
     "data": {
      "text/plain": [
       "array([[0.08967991, 0.57750527, 0.64160659, 0.26920314],\n",
       "       [0.2044702 , 0.5479977 , 0.78269825, 0.34896198],\n",
       "       [0.06346578, 0.6943859 , 0.59938208, 0.34896198],\n",
       "       [0.03338852, 0.65855528, 0.44181256, 0.44854459],\n",
       "       [0.09933775, 0.68710481, 0.52832132, 0.44854459]])"
      ]
     },
     "execution_count": 3,
     "metadata": {},
     "output_type": "execute_result"
    }
   ],
   "source": [
    "\n",
    "X_minmax = (X - X.min(axis=0)) / (X.max(axis=0) - X.min(axis=0))\n",
    "X_minmax[:5]\n"
   ]
  },
  {
   "cell_type": "markdown",
   "id": "5b607e4c",
   "metadata": {},
   "source": [
    "\n",
    "## 🔹 Step 3 — Apply Z-Score Standardization\n",
    "Centers data to mean = 0 and standard deviation = 1.\n"
   ]
  },
  {
   "cell_type": "code",
   "execution_count": 4,
   "id": "a444aa7b",
   "metadata": {},
   "outputs": [
    {
     "data": {
      "text/plain": [
       "array([[-1.0755623 ,  0.41367189, -0.12001342,  0.1402136 ],\n",
       "       [-0.49243937,  0.19427445,  0.36716642,  0.55715988],\n",
       "       [-1.2087274 ,  1.28271368, -0.26581176,  0.55715988],\n",
       "       [-1.36151682,  1.01630251, -0.80988851,  1.07773662],\n",
       "       [-1.02650148,  1.22857665, -0.51117971,  1.07773662]])"
      ]
     },
     "execution_count": 4,
     "metadata": {},
     "output_type": "execute_result"
    }
   ],
   "source": [
    "\n",
    "X_standard = (X - X.mean(axis=0)) / X.std(axis=0)\n",
    "X_standard[:5]\n"
   ]
  },
  {
   "cell_type": "markdown",
   "id": "7cc1212f",
   "metadata": {},
   "source": [
    "\n",
    "## 🔹 Step 4 — Visualize Effects of Scaling\n",
    "Let's visualize the difference between original, MinMax, and Standardized data distributions.\n"
   ]
  },
  {
   "cell_type": "code",
   "execution_count": 5,
   "id": "d4c7987b",
   "metadata": {},
   "outputs": [
    {
     "name": "stderr",
     "output_type": "stream",
     "text": [
      "C:\\Users\\vedav\\AppData\\Local\\Temp\\ipykernel_16032\\1017236080.py:2: MatplotlibDeprecationWarning: The 'labels' parameter of boxplot() has been renamed 'tick_labels' since Matplotlib 3.9; support for the old name will be dropped in 3.11.\n",
      "  plt.boxplot([X[:,0], X_minmax[:,0], X_standard[:,0]], labels=['Original', 'MinMax', 'ZScore'])\n"
     ]
    },
    {
     "data": {
      "image/png": "[encoded data removed]",
      "text/plain": [
       "<Figure size 700x500 with 1 Axes>"
      ]
     },
     "metadata": {},
     "output_type": "display_data"
    }
   ],
   "source": [
    "\n",
    "plt.figure(figsize=(7,5))\n",
    "plt.boxplot([X[:,0], X_minmax[:,0], X_standard[:,0]], labels=['Original', 'MinMax', 'ZScore'])\n",
    "plt.title(\"Effect of Scaling on 'lstat' Feature\")\n",
    "plt.ylabel(\"Value Distribution\")\n",
    "plt.show()\n"
   ]
  },
  {
   "cell_type": "markdown",
   "id": "ee2fd454",
   "metadata": {},
   "source": [
    "\n",
    "## 🔹 Step 5 — Compare with Scikit-learn Preprocessing\n",
    "We'll check whether our manual scaling matches `sklearn`’s transformations.\n"
   ]
  },
  {
   "cell_type": "code",
   "execution_count": 6,
   "id": "eed36ff2",
   "metadata": {},
   "outputs": [
    {
     "name": "stdout",
     "output_type": "stream",
     "text": [
      "Sklearn MinMax Example:\n",
      " [[0.32903226 0.20157068 0.58610272 0.        ]\n",
      " [1.         0.         1.         0.44473177]\n",
      " [0.17580645 1.         0.46223565 0.44473177]\n",
      " [0.         0.7552356  0.         1.        ]\n",
      " [0.38548387 0.95026178 0.25377644 1.        ]]\n",
      "\n",
      "Sklearn StandardScaler Example:\n",
      " [[-0.14482721 -0.93578944  0.37499336 -1.51681243]\n",
      " [ 1.83701878 -1.43238343  1.60994747 -0.34951153]\n",
      " [-0.59741223  1.03123868  0.00540856 -0.34951153]\n",
      " [-1.11669399  0.4282317  -1.37377377  1.10791774]\n",
      " [ 0.02191464  0.9087025  -0.61657563  1.10791774]]\n"
     ]
    }
   ],
   "source": [
    "\n",
    "from sklearn.preprocessing import MinMaxScaler, StandardScaler\n",
    "\n",
    "minmax = MinMaxScaler()\n",
    "stdscaler = StandardScaler()\n",
    "\n",
    "print(\"Sklearn MinMax Example:\\n\", minmax.fit_transform(X[:5]))\n",
    "print(\"\\nSklearn StandardScaler Example:\\n\", stdscaler.fit_transform(X[:5]))\n"
   ]
  },
  {
   "cell_type": "markdown",
   "id": "84f19a9c",
   "metadata": {},
   "source": [
    "\n",
    "## ✅ Key Takeaways\n",
    "\n",
    "- **Normalization** rescales data to [0, 1], ideal for bounded models (like Neural Networks).  \n",
    "- **Standardization** transforms features to mean 0 and variance 1, suitable for models assuming normal distributions (like Logistic Regression).  \n",
    "\n",
    "> Scaling isn’t about cleaning data — it’s about aligning the numbers so your model listens to every feature equally.\n"
   ]
  }
 ],
 "metadata": {
  "kernelspec": {
   "display_name": ".venv",
   "language": "python",
   "name": "python3"
  },
  "language_info": {
   "codemirror_mode": {
    "name": "ipython",
    "version": 3
   },
   "file_extension": ".py",
   "mimetype": "text/x-python",
   "name": "python",
   "nbconvert_exporter": "python",
   "pygments_lexer": "ipython3",
   "version": "3.12.0"
  }
 },
 "nbformat": 4,
 "nbformat_minor": 5
}
