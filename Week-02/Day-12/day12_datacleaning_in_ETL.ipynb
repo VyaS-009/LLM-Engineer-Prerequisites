{
 "cells": [
  {
   "cell_type": "markdown",
   "metadata": {},
   "source": [
    "# Day 12 – Data Cleaning & Preprocessing in ETL\n",
    "### Handling Missing Values, Duplicates & Outliers\n",
    "\n",
    "In this notebook, we'll explore:\n",
    "- Simulating a dirty dataset\n",
    "- Detecting and handling missing values\n",
    "- Removing duplicates\n",
    "- Detecting and fixing outliers programmatically\n",
    "- Preparing a clean dataset ready for analytics or ML"
   ]
  },
  {
   "cell_type": "code",
   "execution_count": 1,
   "metadata": {},
   "outputs": [
    {
     "data": {
      "text/html": [
       "<div>\n",
       "<style scoped>\n",
       "    .dataframe tbody tr th:only-of-type {\n",
       "        vertical-align: middle;\n",
       "    }\n",
       "\n",
       "    .dataframe tbody tr th {\n",
       "        vertical-align: top;\n",
       "    }\n",
       "\n",
       "    .dataframe thead th {\n",
       "        text-align: right;\n",
       "    }\n",
       "</style>\n",
       "<table border=\"1\" class=\"dataframe\">\n",
       "  <thead>\n",
       "    <tr style=\"text-align: right;\">\n",
       "      <th></th>\n",
       "      <th>CustomerID</th>\n",
       "      <th>Age</th>\n",
       "      <th>Gender</th>\n",
       "      <th>PurchaseAmount</th>\n",
       "      <th>Region</th>\n",
       "    </tr>\n",
       "  </thead>\n",
       "  <tbody>\n",
       "    <tr>\n",
       "      <th>0</th>\n",
       "      <td>1038</td>\n",
       "      <td>NaN</td>\n",
       "      <td>Unknown</td>\n",
       "      <td>554.99</td>\n",
       "      <td>East</td>\n",
       "    </tr>\n",
       "    <tr>\n",
       "      <th>1</th>\n",
       "      <td>1028</td>\n",
       "      <td>39.0</td>\n",
       "      <td>Male</td>\n",
       "      <td>359.02</td>\n",
       "      <td>West</td>\n",
       "    </tr>\n",
       "    <tr>\n",
       "      <th>2</th>\n",
       "      <td>1014</td>\n",
       "      <td>53.9</td>\n",
       "      <td>Male</td>\n",
       "      <td>422.92</td>\n",
       "      <td>South</td>\n",
       "    </tr>\n",
       "    <tr>\n",
       "      <th>3</th>\n",
       "      <td>1042</td>\n",
       "      <td>36.7</td>\n",
       "      <td>Female</td>\n",
       "      <td>341.12</td>\n",
       "      <td>North</td>\n",
       "    </tr>\n",
       "    <tr>\n",
       "      <th>4</th>\n",
       "      <td>1007</td>\n",
       "      <td>37.6</td>\n",
       "      <td>Male</td>\n",
       "      <td>490.60</td>\n",
       "      <td>West</td>\n",
       "    </tr>\n",
       "    <tr>\n",
       "      <th>5</th>\n",
       "      <td>1020</td>\n",
       "      <td>NaN</td>\n",
       "      <td>Unknown</td>\n",
       "      <td>643.27</td>\n",
       "      <td>North</td>\n",
       "    </tr>\n",
       "    <tr>\n",
       "      <th>6</th>\n",
       "      <td>1038</td>\n",
       "      <td>15.8</td>\n",
       "      <td>Female</td>\n",
       "      <td>352.14</td>\n",
       "      <td>North</td>\n",
       "    </tr>\n",
       "    <tr>\n",
       "      <th>7</th>\n",
       "      <td>1018</td>\n",
       "      <td>34.7</td>\n",
       "      <td>Male</td>\n",
       "      <td>NaN</td>\n",
       "      <td>North</td>\n",
       "    </tr>\n",
       "    <tr>\n",
       "      <th>8</th>\n",
       "      <td>1022</td>\n",
       "      <td>35.6</td>\n",
       "      <td>Female</td>\n",
       "      <td>420.46</td>\n",
       "      <td>East</td>\n",
       "    </tr>\n",
       "    <tr>\n",
       "      <th>9</th>\n",
       "      <td>1010</td>\n",
       "      <td>59.6</td>\n",
       "      <td>Female</td>\n",
       "      <td>381.07</td>\n",
       "      <td>East</td>\n",
       "    </tr>\n",
       "  </tbody>\n",
       "</table>\n",
       "</div>"
      ],
      "text/plain": [
       "   CustomerID   Age   Gender  PurchaseAmount Region\n",
       "0        1038   NaN  Unknown          554.99   East\n",
       "1        1028  39.0     Male          359.02   West\n",
       "2        1014  53.9     Male          422.92  South\n",
       "3        1042  36.7   Female          341.12  North\n",
       "4        1007  37.6     Male          490.60   West\n",
       "5        1020   NaN  Unknown          643.27  North\n",
       "6        1038  15.8   Female          352.14  North\n",
       "7        1018  34.7     Male             NaN  North\n",
       "8        1022  35.6   Female          420.46   East\n",
       "9        1010  59.6   Female          381.07   East"
      ]
     },
     "execution_count": 1,
     "metadata": {},
     "output_type": "execute_result"
    }
   ],
   "source": [
    "import pandas as pd\n",
    "import numpy as np\n",
    "import matplotlib.pyplot as plt\n",
    "import seaborn as sns\n",
    "plt.style.use('seaborn-v0_8-whitegrid')\n",
    "\n",
    "# -------------------------------\n",
    "# 1. Simulate a dirty dataset\n",
    "# -------------------------------\n",
    "np.random.seed(42)\n",
    "n = 200\n",
    "\n",
    "data = {\n",
    "    'CustomerID': np.random.randint(1000, 1050, n),  # duplicate IDs\n",
    "    'Age': np.random.normal(35, 10, n).round(1),\n",
    "    'Gender': np.random.choice(['Male', 'Female', 'Unknown'], n, p=[0.45, 0.45, 0.1]),\n",
    "    'PurchaseAmount': np.random.normal(500, 150, n).round(2),\n",
    "    'Region': np.random.choice(['North', 'South', 'East', 'West'], n)\n",
    "}\n",
    "df = pd.DataFrame(data)\n",
    "\n",
    "# Introduce missing values\n",
    "for col in ['Age', 'PurchaseAmount']:\n",
    "    df.loc[df.sample(frac=0.1).index, col] = np.nan\n",
    "\n",
    "# Introduce extreme outliers\n",
    "outlier_indices = np.random.choice(df.index, 5, replace=False)\n",
    "df.loc[outlier_indices, 'PurchaseAmount'] = df['PurchaseAmount'] * 8\n",
    "\n",
    "# Introduce duplicates\n",
    "df = pd.concat([df, df.sample(10, random_state=1)], ignore_index=True)\n",
    "\n",
    "# Quick preview\n",
    "df.head(10)"
   ]
  },
  {
   "cell_type": "markdown",
   "metadata": {},
   "source": [
    "## 1. Data Overview"
   ]
  },
  {
   "cell_type": "code",
   "execution_count": 2,
   "metadata": {},
   "outputs": [
    {
     "name": "stdout",
     "output_type": "stream",
     "text": [
      "<class 'pandas.core.frame.DataFrame'>\n",
      "RangeIndex: 210 entries, 0 to 209\n",
      "Data columns (total 5 columns):\n",
      " #   Column          Non-Null Count  Dtype  \n",
      "---  ------          --------------  -----  \n",
      " 0   CustomerID      210 non-null    int32  \n",
      " 1   Age             188 non-null    float64\n",
      " 2   Gender          210 non-null    object \n",
      " 3   PurchaseAmount  190 non-null    float64\n",
      " 4   Region          210 non-null    object \n",
      "dtypes: float64(2), int32(1), object(2)\n",
      "memory usage: 7.5+ KB\n"
     ]
    },
    {
     "data": {
      "text/plain": [
       "CustomerID         0\n",
       "Age               22\n",
       "Gender             0\n",
       "PurchaseAmount    20\n",
       "Region             0\n",
       "dtype: int64"
      ]
     },
     "execution_count": 2,
     "metadata": {},
     "output_type": "execute_result"
    }
   ],
   "source": [
    "df.info()\n",
    "df.describe(include='all')\n",
    "df.isnull().sum()"
   ]
  },
  {
   "cell_type": "markdown",
   "metadata": {},
   "source": [
    "## 2. Detecting Missing Values"
   ]
  },
  {
   "cell_type": "code",
   "execution_count": 3,
   "metadata": {},
   "outputs": [
    {
     "data": {
      "image/png": "[encoded data removed]",
      "text/plain": [
       "<Figure size 600x300 with 1 Axes>"
      ]
     },
     "metadata": {},
     "output_type": "display_data"
    },
    {
     "name": "stderr",
     "output_type": "stream",
     "text": [
      "C:\\Users\\vedav\\AppData\\Local\\Temp\\ipykernel_19196\\230823561.py:7: FutureWarning: A value is trying to be set on a copy of a DataFrame or Series through chained assignment using an inplace method.\n",
      "The behavior will change in pandas 3.0. This inplace method will never work because the intermediate object on which we are setting values always behaves as a copy.\n",
      "\n",
      "For example, when doing 'df[col].method(value, inplace=True)', try using 'df.method({col: value}, inplace=True)' or df[col] = df[col].method(value) instead, to perform the operation inplace on the original object.\n",
      "\n",
      "\n",
      "  df['Age'].fillna(df['Age'].median(), inplace=True)\n",
      "C:\\Users\\vedav\\AppData\\Local\\Temp\\ipykernel_19196\\230823561.py:8: FutureWarning: A value is trying to be set on a copy of a DataFrame or Series through chained assignment using an inplace method.\n",
      "The behavior will change in pandas 3.0. This inplace method will never work because the intermediate object on which we are setting values always behaves as a copy.\n",
      "\n",
      "For example, when doing 'df[col].method(value, inplace=True)', try using 'df.method({col: value}, inplace=True)' or df[col] = df[col].method(value) instead, to perform the operation inplace on the original object.\n",
      "\n",
      "\n",
      "  df['PurchaseAmount'].fillna(df['PurchaseAmount'].mean(), inplace=True)\n"
     ]
    }
   ],
   "source": [
    "plt.figure(figsize=(6,3))\n",
    "sns.heatmap(df.isnull(), cbar=False, cmap='Reds')\n",
    "plt.title('Missing Value Heatmap')\n",
    "plt.show()\n",
    "\n",
    "# Handle missing values\n",
    "df['Age'].fillna(df['Age'].median(), inplace=True)\n",
    "df['PurchaseAmount'].fillna(df['PurchaseAmount'].mean(), inplace=True)"
   ]
  },
  {
   "cell_type": "markdown",
   "metadata": {},
   "source": [
    "## 3. Removing Duplicates"
   ]
  },
  {
   "cell_type": "code",
   "execution_count": 4,
   "metadata": {},
   "outputs": [
    {
     "name": "stdout",
     "output_type": "stream",
     "text": [
      "Duplicates before cleaning: 10\n",
      "Duplicates after cleaning: 0\n"
     ]
    }
   ],
   "source": [
    "duplicates_before = df.duplicated().sum()\n",
    "print(f\"Duplicates before cleaning: {duplicates_before}\")\n",
    "\n",
    "df.drop_duplicates(inplace=True)\n",
    "duplicates_after = df.duplicated().sum()\n",
    "print(f\"Duplicates after cleaning: {duplicates_after}\")"
   ]
  },
  {
   "cell_type": "markdown",
   "metadata": {},
   "source": [
    "## 4. Detecting Outliers (Z-Score & IQR)"
   ]
  },
  {
   "cell_type": "code",
   "execution_count": 5,
   "metadata": {},
   "outputs": [
    {
     "data": {
      "image/png": "[encoded data removed]",
      "text/plain": [
       "<Figure size 800x400 with 1 Axes>"
      ]
     },
     "metadata": {},
     "output_type": "display_data"
    },
    {
     "data": {
      "image/png": "[encoded data removed]",
      "text/plain": [
       "<Figure size 800x400 with 1 Axes>"
      ]
     },
     "metadata": {},
     "output_type": "display_data"
    }
   ],
   "source": [
    "# Boxplot before cleaning\n",
    "plt.figure(figsize=(8,4))\n",
    "sns.boxplot(x=df['PurchaseAmount'], color='salmon')\n",
    "plt.title('Outliers Before Cleaning')\n",
    "plt.show()\n",
    "\n",
    "# Using IQR method to remove extreme outliers\n",
    "Q1 = df['PurchaseAmount'].quantile(0.25)\n",
    "Q3 = df['PurchaseAmount'].quantile(0.75)\n",
    "IQR = Q3 - Q1\n",
    "lower_bound = Q1 - 1.5 * IQR\n",
    "upper_bound = Q3 + 1.5 * IQR\n",
    "\n",
    "df['PurchaseAmount'] = np.where(df['PurchaseAmount'] > upper_bound, upper_bound, df['PurchaseAmount'])\n",
    "df['PurchaseAmount'] = np.where(df['PurchaseAmount'] < lower_bound, lower_bound, df['PurchaseAmount'])\n",
    "\n",
    "# Boxplot after cleaning\n",
    "plt.figure(figsize=(8,4))\n",
    "sns.boxplot(x=df['PurchaseAmount'], color='lightgreen')\n",
    "plt.title('Outliers After Cleaning')\n",
    "plt.show()"
   ]
  },
  {
   "cell_type": "markdown",
   "metadata": {},
   "source": [
    "## 5. Final Cleaned Dataset Overview"
   ]
  },
  {
   "cell_type": "code",
   "execution_count": 6,
   "metadata": {},
   "outputs": [
    {
     "data": {
      "text/html": [
       "<div>\n",
       "<style scoped>\n",
       "    .dataframe tbody tr th:only-of-type {\n",
       "        vertical-align: middle;\n",
       "    }\n",
       "\n",
       "    .dataframe tbody tr th {\n",
       "        vertical-align: top;\n",
       "    }\n",
       "\n",
       "    .dataframe thead th {\n",
       "        text-align: right;\n",
       "    }\n",
       "</style>\n",
       "<table border=\"1\" class=\"dataframe\">\n",
       "  <thead>\n",
       "    <tr style=\"text-align: right;\">\n",
       "      <th></th>\n",
       "      <th>CustomerID</th>\n",
       "      <th>Age</th>\n",
       "      <th>Gender</th>\n",
       "      <th>PurchaseAmount</th>\n",
       "      <th>Region</th>\n",
       "    </tr>\n",
       "  </thead>\n",
       "  <tbody>\n",
       "    <tr>\n",
       "      <th>70</th>\n",
       "      <td>1017</td>\n",
       "      <td>37.80</td>\n",
       "      <td>Male</td>\n",
       "      <td>575.1400</td>\n",
       "      <td>East</td>\n",
       "    </tr>\n",
       "    <tr>\n",
       "      <th>71</th>\n",
       "      <td>1025</td>\n",
       "      <td>43.30</td>\n",
       "      <td>Female</td>\n",
       "      <td>353.3700</td>\n",
       "      <td>East</td>\n",
       "    </tr>\n",
       "    <tr>\n",
       "      <th>133</th>\n",
       "      <td>1000</td>\n",
       "      <td>36.90</td>\n",
       "      <td>Female</td>\n",
       "      <td>671.5600</td>\n",
       "      <td>North</td>\n",
       "    </tr>\n",
       "    <tr>\n",
       "      <th>177</th>\n",
       "      <td>1043</td>\n",
       "      <td>36.85</td>\n",
       "      <td>Male</td>\n",
       "      <td>701.8100</td>\n",
       "      <td>East</td>\n",
       "    </tr>\n",
       "    <tr>\n",
       "      <th>176</th>\n",
       "      <td>1043</td>\n",
       "      <td>36.10</td>\n",
       "      <td>Male</td>\n",
       "      <td>831.0525</td>\n",
       "      <td>South</td>\n",
       "    </tr>\n",
       "  </tbody>\n",
       "</table>\n",
       "</div>"
      ],
      "text/plain": [
       "     CustomerID    Age  Gender  PurchaseAmount Region\n",
       "70         1017  37.80    Male        575.1400   East\n",
       "71         1025  43.30  Female        353.3700   East\n",
       "133        1000  36.90  Female        671.5600  North\n",
       "177        1043  36.85    Male        701.8100   East\n",
       "176        1043  36.10    Male        831.0525  South"
      ]
     },
     "execution_count": 6,
     "metadata": {},
     "output_type": "execute_result"
    }
   ],
   "source": [
    "df.describe()\n",
    "df.isnull().sum()\n",
    "df.sample(5)"
   ]
  },
  {
   "cell_type": "markdown",
   "metadata": {},
   "source": [
    "## 6. Summary & Insights\n",
    "- Cleaned missing values using **median/mean imputation**\n",
    "- Removed all duplicate rows\n",
    "- Detected and fixed outliers using **IQR clipping**\n",
    "- Dataset is now **ready for feature engineering / model training**\n",
    "\n",
    "👉 This approach forms the **core preprocessing step in ETL pipelines** for data analytics & ML systems."
   ]
  }
 ],
 "metadata": {
  "kernelspec": {
   "display_name": ".venv",
   "language": "python",
   "name": "python3"
  },
  "language_info": {
   "codemirror_mode": {
    "name": "ipython",
    "version": 3
   },
   "file_extension": ".py",
   "mimetype": "text/x-python",
   "name": "python",
   "nbconvert_exporter": "python",
   "pygments_lexer": "ipython3",
   "version": "3.12.0"
  }
 },
 "nbformat": 4,
 "nbformat_minor": 5
}
